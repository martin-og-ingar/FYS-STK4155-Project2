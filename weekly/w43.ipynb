{
 "cells": [
  {
   "cell_type": "markdown",
   "metadata": {},
   "source": [
    "<h1>Overarching aims of the exercises this week</h1>\n",
    "The aim of the exercises this week is to train the neural network you implemented last week.\n",
    "\n",
    "To train neural networks, we use gradient descent, since there is no analytical expression for the optimal parameters. This means you will need to compute the gradient of the cost function wrt. the network parameters. And then you will need to implement some gradient method.\n",
    "\n",
    "You will begin by computing gradients for a network with one layer, then two layers, then any number of layers. Keeping track of the shapes and doing things step by step will be very important this week.\n",
    "\n",
    "We recommend that you do the exercises this week by editing and running this notebook file, as it includes some checks along the way that you have implemented the neural network correctly, and running small parts of the code at a time will be important for understanding the methods. If you have trouble running a notebook, you can run this notebook in google colab instead(https://colab.research.google.com/drive/1FfvbN0XlhV-lATRPyGRTtTBnJr3zNuHL#offline=true&sandboxMode=true), though we recommend that you set up VSCode and your python environment to run code like this locally.\n",
    "\n",
    "First, some setup code that you will need."
   ]
  },
  {
   "cell_type": "code",
   "execution_count": 1,
   "metadata": {},
   "outputs": [],
   "source": [
    "import autograd.numpy as np  # We need to use this numpy wrapper to make automatic differentiation work later\n",
    "from autograd import grad, elementwise_grad\n",
    "from sklearn import datasets\n",
    "import matplotlib.pyplot as plt\n",
    "from sklearn.metrics import accuracy_score\n",
    "\n",
    "\n",
    "# Defining some activation functions\n",
    "def ReLU(z):\n",
    "    return np.where(z > 0, z, 0)\n",
    "\n",
    "\n",
    "# Derivative of the ReLU function\n",
    "def ReLU_der(z):\n",
    "    return np.where(z > 0, 1, 0)\n",
    "\n",
    "\n",
    "def sigmoid(z):\n",
    "    return 1 / (1 + np.exp(-z))\n",
    "\n",
    "\n",
    "def mse(predict, target):\n",
    "    return np.mean((predict - target) ** 2)\n"
   ]
  },
  {
   "cell_type": "markdown",
   "metadata": {},
   "source": [
    "<h1>Exercise 1 - Understand the feed forward pass</h1>\n",
    "a) Complete last weeks’ mandatory exercises if you haven’t already."
   ]
  },
  {
   "cell_type": "markdown",
   "metadata": {},
   "source": [
    "<h1>Exercise 2 - Gradient with one layer using autograd</h1>\n",
    "For the first few exercises, we will not use batched inputs. Only a single input vector is passed through the layer at a time.\n",
    "\n",
    "In this exercise you will compute the gradient of a single layer. You only need to change the code in the cells right below an exercise, the rest works out of the box. Feel free to make changes and see how stuff works though!\n",
    "\n",
    "**a)** If the weights and bias of a layer has shapes (10, 4) and (10), what will the shapes of the gradients of the cost function wrt. these weights and this bias be?\n",
    "\n",
    "The gradients will match the shapes of the weights and biases. Meaning that the gradients for the weights will have the shape (10, 4), whilst the gradients for the biases will have the shape (10). \n",
    "\n",
    "**b)** Complete the feed_forward_one_layer function. It should use the sigmoid activation function. Also define the weigth and bias with the correct shapes.\n"
   ]
  },
  {
   "cell_type": "code",
   "execution_count": 2,
   "metadata": {},
   "outputs": [],
   "source": [
    "def feed_forward_one_layer(W, b, x):\n",
    "    z = W @ x + b\n",
    "    a = sigmoid(z)\n",
    "    return a\n",
    "\n",
    "\n",
    "def cost_one_layer(W, b, x, target):\n",
    "    predict = feed_forward_one_layer(W, b, x)\n",
    "    return mse(predict, target)\n",
    "\n",
    "\n",
    "x = np.random.rand(2)\n",
    "target = np.random.rand(3)\n",
    "\n",
    "W = np.random.rand(3,2)\n",
    "b = np.random.rand(3)"
   ]
  },
  {
   "cell_type": "markdown",
   "metadata": {},
   "source": [
    "**c)** Compute the gradient of the cost function wrt. the weigth and bias by running the cell below. You will not need to change anything, just make sure it runs by defining things correctly in the cell above. This code uses the autograd package which uses backprogagation to compute the gradient!"
   ]
  },
  {
   "cell_type": "code",
   "execution_count": 3,
   "metadata": {},
   "outputs": [
    {
     "name": "stdout",
     "output_type": "stream",
     "text": [
      "[[ 0.04441685  0.03220962]\n",
      " [ 0.03895473  0.02824868]\n",
      " [-0.00794992 -0.00576502]] [ 0.07376624  0.06469492 -0.01320301]\n"
     ]
    }
   ],
   "source": [
    "autograd_one_layer = grad(cost_one_layer, [0, 1])\n",
    "W_g, b_g = autograd_one_layer(W, b, x, target)\n",
    "print(W_g, b_g)"
   ]
  },
  {
   "cell_type": "markdown",
   "metadata": {},
   "source": [
    "<h1>Exercise 3 - Gradient with one layer writing backpropagation by hand</h1>\n",
    "Before you use the gradient you found using autograd, you will have to find the gradient “manually”, to better understand how the backpropagation computation works. To do backpropagation “manually”, you will need to write out expressions for many derivatives along the computation.\n",
    "\n",
    "We want to find the gradient of the cost function wrt. the weight and bias. This is quite hard to do directly, so we instead use the chain rule to combine multiple derivatives which are easier to compute.\n",
    "\n",
    "**a)** Which intermediary results can be reused between the two expressions?\n",
    "\n",
    "The deriviatives of the cost function wrt. a and z can be reused between deriviative of the cost function wrt. weights and bias. \n",
    "\n",
    "**b)** What is the derivative of the cost wrt. the final activation? You can use the autograd calculation to make sure you get the correct result. Remember that we compute the mean in mse.\n",
    "\n"
   ]
  },
  {
   "cell_type": "code",
   "execution_count": 4,
   "metadata": {},
   "outputs": [
    {
     "name": "stdout",
     "output_type": "stream",
     "text": [
      "[ 0.39773785  0.38318056 -0.07322665]\n",
      "[ 0.39773785  0.38318056 -0.07322665]\n"
     ]
    }
   ],
   "source": [
    "z = W @ x + b\n",
    "a = sigmoid(z)\n",
    "\n",
    "predict = a\n",
    "\n",
    "\n",
    "def mse_der(predict, target):\n",
    "    return 2 * (predict - target) / len(predict)\n",
    "\n",
    "\n",
    "print(mse_der(predict, target))\n",
    "\n",
    "cost_autograd = grad(mse, 0)\n",
    "print(cost_autograd(predict, target))\n"
   ]
  },
  {
   "cell_type": "markdown",
   "metadata": {},
   "source": [
    "**c)** What is the expression for the derivative of the sigmoid activation function? You can use the autograd calculation to make sure you get the correct result."
   ]
  },
  {
   "cell_type": "code",
   "execution_count": 5,
   "metadata": {},
   "outputs": [
    {
     "name": "stdout",
     "output_type": "stream",
     "text": [
      "[0.18546448 0.16883663 0.18030332]\n",
      "[0.18546448 0.16883663 0.18030332]\n"
     ]
    }
   ],
   "source": [
    "def sigmoid_der(z):\n",
    "    return sigmoid(z)*(1-sigmoid(z))    \n",
    "\n",
    "\n",
    "print(sigmoid_der(z))\n",
    "\n",
    "sigmoid_autograd = elementwise_grad(sigmoid, 0)\n",
    "print(sigmoid_autograd(z))"
   ]
  },
  {
   "cell_type": "markdown",
   "metadata": {},
   "source": [
    "**d)** Using the two derivatives you just computed, compute this intermetidary gradient you will use later:"
   ]
  },
  {
   "cell_type": "code",
   "execution_count": 6,
   "metadata": {},
   "outputs": [],
   "source": [
    "dC_da = mse_der(predict,target)\n",
    "dC_dz = dC_da * sigmoid_der(z)"
   ]
  },
  {
   "cell_type": "markdown",
   "metadata": {},
   "source": [
    "**e)** What is the derivative of the intermediary z wrt. the weight and bias? What should the shapes be? The one for the weights is a little tricky, it can be easier to play around in the next exercise first. You can also try computing it with autograd to get a hint.\n",
    "\n",
    "Z, the pre-activation function value, is calculated as z = W * x + b, hence the deriviate of z wrt. weights and biases is respectively x and 1.\n",
    "The shapes of dZ/dW and dZ/dW is (3,2) and (3). "
   ]
  },
  {
   "cell_type": "markdown",
   "metadata": {},
   "source": [
    "**f)** Now combine the expressions you have worked with so far to compute the gradients! Note that you always need to do a feed forward pass while saving the zs and as before you do backpropagation, as they are used in the derivative expressions"
   ]
  },
  {
   "cell_type": "code",
   "execution_count": 7,
   "metadata": {},
   "outputs": [
    {
     "name": "stdout",
     "output_type": "stream",
     "text": [
      "[[ 0.04441685  0.03220962]\n",
      " [ 0.03895473  0.02824868]\n",
      " [-0.00794992 -0.00576502]] [ 0.07376624  0.06469492 -0.01320301]\n"
     ]
    }
   ],
   "source": [
    "dC_da = dC_da   #Already computed\n",
    "dC_dz = dC_dz   #Already computed\n",
    "dC_dW = np.outer(dC_dz, x)\n",
    "dC_db = dC_dz\n",
    "\n",
    "print(dC_dW, dC_db)"
   ]
  },
  {
   "cell_type": "code",
   "execution_count": 8,
   "metadata": {},
   "outputs": [
    {
     "name": "stdout",
     "output_type": "stream",
     "text": [
      "[[ 0.04441685  0.03220962]\n",
      " [ 0.03895473  0.02824868]\n",
      " [-0.00794992 -0.00576502]] [ 0.07376624  0.06469492 -0.01320301]\n"
     ]
    }
   ],
   "source": [
    "W_g, b_g = autograd_one_layer(W, b, x, target)\n",
    "print(W_g, b_g)"
   ]
  },
  {
   "cell_type": "markdown",
   "metadata": {},
   "source": [
    "<h1>Exercise 4 - Gradient with two layers writing backpropagation by hand</h1>\n",
    "Now that you have implemented backpropagation for one layer, you have found most of the expressions you will need for more layers. Let’s move up to two layers."
   ]
  },
  {
   "cell_type": "code",
   "execution_count": 9,
   "metadata": {},
   "outputs": [],
   "source": [
    "x = np.random.rand(2)\n",
    "target = np.random.rand(4)\n",
    "\n",
    "W1 = np.random.rand(3, 2)\n",
    "b1 = np.random.rand(3)\n",
    "\n",
    "W2 = np.random.rand(4, 3)\n",
    "b2 = np.random.rand(4)\n",
    "\n",
    "layers = [(W1, b1), (W2, b2)]"
   ]
  },
  {
   "cell_type": "code",
   "execution_count": 10,
   "metadata": {},
   "outputs": [],
   "source": [
    "z1 = W1 @ x + b1\n",
    "a1 = sigmoid(z1)\n",
    "z2 = W2 @ a1 + b2\n",
    "a2 = sigmoid(z2)"
   ]
  },
  {
   "cell_type": "markdown",
   "metadata": {},
   "source": [
    "We begin by computing the gradients of the last layer, as the gradients must be propagated backwards from the end.\n",
    "\n",
    "**a)** Compute the gradients of the last layer, just like you did the single layer in the previous exercise."
   ]
  },
  {
   "cell_type": "code",
   "execution_count": 11,
   "metadata": {},
   "outputs": [],
   "source": [
    "dC_da2 = mse_der(a2,target)\n",
    "dC_dz2 = dC_da2 * sigmoid_der(z2)\n",
    "dC_dW2 = np.outer(dC_dz2,a1)\n",
    "dC_db2 = dC_dz2"
   ]
  },
  {
   "attachments": {
    "image.png": {
     "image/png": "[encoded data removed]"
    }
   },
   "cell_type": "markdown",
   "metadata": {},
   "source": [
    "To find the derivative of the cost wrt. the activation of the first layer, we need a new expression, the one furthest to the right in the following.\n",
    "\n",
    "![image.png](attachment:image.png)"
   ]
  },
  {
   "attachments": {
    "image.png": {
     "image/png": "[encoded data removed]"
    }
   },
   "cell_type": "markdown",
   "metadata": {},
   "source": [
    "**b)** What is the derivative of the second layer intermetiate wrt. the first layer activation? (First recall how you compute \n",
    "z2)\n",
    "\n",
    "![image.png](attachment:image.png)\n",
    "\n",
    "z2 = W2 * a1 + b2\n",
    "dC/da1 = dC/dz2 * W2\n",
    "\n",
    "dz2/da1 = W2"
   ]
  },
  {
   "attachments": {
    "image.png": {
     "image/png": "[encoded data removed]"
    }
   },
   "cell_type": "markdown",
   "metadata": {},
   "source": [
    "**c)** Use this expression, together with expressions which are equivelent to ones for the last layer to compute all the derivatives of the first layer.\n",
    "\n",
    "![image.png](attachment:image.png)"
   ]
  },
  {
   "cell_type": "code",
   "execution_count": 12,
   "metadata": {},
   "outputs": [],
   "source": [
    "dC_da1 = dC_dz2 @ W2\n",
    "dC_dz1 = dC_da1 * sigmoid_der(z1)\n",
    "dC_dW1 = np.outer(dC_dz1,x)\n",
    "dC_db1 = dC_dz1"
   ]
  },
  {
   "cell_type": "code",
   "execution_count": 13,
   "metadata": {},
   "outputs": [
    {
     "name": "stdout",
     "output_type": "stream",
     "text": [
      "[[0.00272825 0.00580887]\n",
      " [0.00190885 0.00406425]\n",
      " [0.00304258 0.00647814]] [0.0159618  0.01116787 0.01780084]\n",
      "[[0.00224052 0.00288615 0.0024246 ]\n",
      " [0.03234659 0.04166757 0.03500417]\n",
      " [0.02713584 0.0349553  0.02936532]\n",
      " [0.00895298 0.01153286 0.00968855]] [0.00385811 0.05569981 0.04672707 0.01541675]\n"
     ]
    }
   ],
   "source": [
    "print(dC_dW1, dC_db1)\n",
    "print(dC_dW2, dC_db2)"
   ]
  },
  {
   "cell_type": "code",
   "execution_count": 14,
   "metadata": {},
   "outputs": [],
   "source": [
    "def feed_forward_two_layers(layers, x):\n",
    "    W1, b1 = layers[0]\n",
    "    z1 = W1 @ x + b1\n",
    "    a1 = sigmoid(z1)\n",
    "\n",
    "    W2, b2 = layers[1]\n",
    "    z2 = W2 @ a1 + b2\n",
    "    a2 = sigmoid(z2)\n",
    "\n",
    "    return a2"
   ]
  },
  {
   "cell_type": "code",
   "execution_count": 15,
   "metadata": {},
   "outputs": [
    {
     "data": {
      "text/plain": [
       "[(array([[0.00272825, 0.00580887],\n",
       "         [0.00190885, 0.00406425],\n",
       "         [0.00304258, 0.00647814]]),\n",
       "  array([0.0159618 , 0.01116787, 0.01780084])),\n",
       " (array([[0.00224052, 0.00288615, 0.0024246 ],\n",
       "         [0.03234659, 0.04166757, 0.03500417],\n",
       "         [0.02713584, 0.0349553 , 0.02936532],\n",
       "         [0.00895298, 0.01153286, 0.00968855]]),\n",
       "  array([0.00385811, 0.05569981, 0.04672707, 0.01541675]))]"
      ]
     },
     "execution_count": 15,
     "metadata": {},
     "output_type": "execute_result"
    }
   ],
   "source": [
    "def cost_two_layers(layers, x, target):\n",
    "    predict = feed_forward_two_layers(layers, x)\n",
    "    return mse(predict, target)\n",
    "\n",
    "\n",
    "grad_two_layers = grad(cost_two_layers, 0)\n",
    "grad_two_layers(layers, x, target)"
   ]
  },
  {
   "cell_type": "markdown",
   "metadata": {},
   "source": [
    "**e)** How would you use the gradient from this layer to compute the gradient of an even earlier layer? Would the expressions be any different?\n",
    "\n",
    "To compute the gradient of an even earlier layer, I would extend the chain rule, as I did when calculating the first hidden layer in the example above, to include the earlier layer. The expressions for calculating the gradients in the given layer wouldn't be any different, but naturally using different weight, biases, etc. "
   ]
  },
  {
   "cell_type": "markdown",
   "metadata": {},
   "source": [
    "<h1>Exercise 5 - Gradient with any number of layers writing backpropagation by hand</h1>\n",
    "Well done on getting this far! Now it’s time to compute the gradient with any number of layers.\n",
    "\n",
    "First, some code from the general neural network code from last week. Note that we are still sending in one input vector at a time. We will change it to use batched inputs later."
   ]
  },
  {
   "cell_type": "code",
   "execution_count": 16,
   "metadata": {},
   "outputs": [],
   "source": [
    "def create_layers(network_input_size, layer_output_sizes):\n",
    "    layers = []\n",
    "\n",
    "    i_size = network_input_size\n",
    "    for layer_output_size in layer_output_sizes:\n",
    "        W = np.random.randn(layer_output_size, i_size)\n",
    "        b = np.random.randn(layer_output_size)\n",
    "        layers.append((W, b))\n",
    "\n",
    "        i_size = layer_output_size\n",
    "    return layers\n",
    "\n",
    "\n",
    "def feed_forward(input, layers, activation_funcs):\n",
    "    a = input\n",
    "    for (W, b), activation_func in zip(layers, activation_funcs):\n",
    "        z = W @ a + b\n",
    "        a = activation_func(z)\n",
    "    return a\n",
    "\n",
    "\n",
    "def cost(layers, input, activation_funcs, target):\n",
    "    predict = feed_forward(input, layers, activation_funcs)\n",
    "    return mse(predict, target)"
   ]
  },
  {
   "cell_type": "markdown",
   "metadata": {},
   "source": [
    "You might have already have noticed a very important detail in backpropagation: You need the values from the forward pass to compute all the gradients! The feed forward method above is great for efficiency and for using autograd, as it only cares about computing the final output, but now we need to also save the results along the way.\n",
    "\n",
    "Here is a function which does that for you."
   ]
  },
  {
   "cell_type": "code",
   "execution_count": 17,
   "metadata": {},
   "outputs": [],
   "source": [
    "def feed_forward_saver(input, layers, activation_funcs):\n",
    "    layer_inputs = []\n",
    "    zs = []\n",
    "    a = input\n",
    "    for (W, b), activation_func in zip(layers, activation_funcs):\n",
    "        layer_inputs.append(a)\n",
    "        z = W @ a + b\n",
    "        a = activation_func(z)\n",
    "\n",
    "        zs.append(z)\n",
    "\n",
    "    return layer_inputs, zs, a"
   ]
  },
  {
   "cell_type": "markdown",
   "metadata": {},
   "source": [
    "**a)** Now, complete the backpropagation function so that it returns the gradient of the cost function wrt. all the weigths and biases. Use the autograd calculation below to make sure you get the correct answer."
   ]
  },
  {
   "cell_type": "code",
   "execution_count": 18,
   "metadata": {},
   "outputs": [],
   "source": [
    "def backpropagation(\n",
    "    input, layers, activation_funcs, target, activation_ders, cost_der=mse_der\n",
    "):\n",
    "    layer_inputs, zs, predict = feed_forward_saver(input, layers, activation_funcs)\n",
    "\n",
    "    layer_grads = [() for layer in layers]\n",
    "\n",
    "    # We loop over the layers, from the last to the first\n",
    "    for i in reversed(range(len(layers))):\n",
    "        layer_input, z, activation_der = layer_inputs[i], zs[i], activation_ders[i]\n",
    "\n",
    "        if i == len(layers) - 1:\n",
    "            # For last layer we use cost derivative as dC_da(L) can be computed directly\n",
    "            dC_da = cost_der(predict, target)\n",
    "        else:\n",
    "            # For other layers we build on previous z derivative, as dC_da(i) = dC_dz(i+1) * dz(i+1)_da(i)\n",
    "            (W, b) = layers[i + 1]\n",
    "            dC_da = dC_dz @ W\n",
    "\n",
    "        dC_dz = dC_da * activation_der(z)\n",
    "        dC_dW = np.outer(dC_dz, layer_input)\n",
    "        dC_db = dC_dz\n",
    "\n",
    "        layer_grads[i] = (dC_dW, dC_db)\n",
    "\n",
    "    return layer_grads"
   ]
  },
  {
   "cell_type": "code",
   "execution_count": 19,
   "metadata": {},
   "outputs": [],
   "source": [
    "network_input_size = 2\n",
    "layer_output_sizes = [3, 4]\n",
    "activation_funcs = [sigmoid, ReLU]\n",
    "activation_ders = [sigmoid_der, ReLU_der]\n",
    "\n",
    "layers = create_layers(network_input_size, layer_output_sizes)\n",
    "\n",
    "x = np.random.rand(network_input_size)\n",
    "target = np.random.rand(4)"
   ]
  },
  {
   "cell_type": "code",
   "execution_count": 20,
   "metadata": {},
   "outputs": [
    {
     "name": "stdout",
     "output_type": "stream",
     "text": [
      "[(array([[-0.01695578, -0.03177109],\n",
      "       [ 0.08629625,  0.16169856],\n",
      "       [ 0.06190221,  0.11598995]]), array([-0.04315025,  0.21961266,  0.15753301])), (array([[ 0.19497687,  0.18778429,  0.2571645 ],\n",
      "       [ 0.02311709,  0.02226432,  0.03049026],\n",
      "       [-0.        , -0.        , -0.        ],\n",
      "       [ 0.13217221,  0.12729646,  0.17432837]]), array([ 0.44362302,  0.05259739, -0.        ,  0.30072611]))]\n"
     ]
    }
   ],
   "source": [
    "layer_grads = backpropagation(x, layers, activation_funcs, target, activation_ders)\n",
    "print(layer_grads)"
   ]
  },
  {
   "cell_type": "code",
   "execution_count": 21,
   "metadata": {},
   "outputs": [
    {
     "data": {
      "text/plain": [
       "[(array([[-0.01695578, -0.03177109],\n",
       "         [ 0.08629625,  0.16169856],\n",
       "         [ 0.06190221,  0.11598995]]),\n",
       "  array([-0.04315025,  0.21961266,  0.15753301])),\n",
       " (array([[0.19497687, 0.18778429, 0.2571645 ],\n",
       "         [0.02311709, 0.02226432, 0.03049026],\n",
       "         [0.        , 0.        , 0.        ],\n",
       "         [0.13217221, 0.12729646, 0.17432837]]),\n",
       "  array([0.44362302, 0.05259739, 0.        , 0.30072611]))]"
      ]
     },
     "execution_count": 21,
     "metadata": {},
     "output_type": "execute_result"
    }
   ],
   "source": [
    "cost_grad = grad(cost, 0)\n",
    "cost_grad(layers, x, [sigmoid, ReLU], target)"
   ]
  },
  {
   "cell_type": "markdown",
   "metadata": {},
   "source": [
    "<h1>Exercise 6 - Batched inputs</h1>\n",
    "Make new versions of all the functions in exercise 5 which now take batched inputs instead. See last weeks exercise 5 for details on how to batch inputs to neural networks. You will also need to update the backpropogation function."
   ]
  },
  {
   "cell_type": "code",
   "execution_count": 22,
   "metadata": {},
   "outputs": [],
   "source": [
    "def cost_batch(layers, input, activation_funcs, target):\n",
    "    _,_,predict = feed_forward_saver_batch(input, layers, activation_funcs)\n",
    "    return mse(predict, target)\n",
    "\n",
    "def feed_forward_saver_batch(input, layers, activation_funcs):\n",
    "    layer_inputs = []\n",
    "    zs = []\n",
    "    a = input\n",
    "    for (W, b), activation_func in zip(layers, activation_funcs):\n",
    "        layer_inputs.append(a)\n",
    "        z = a @ W.T + b\n",
    "        a = activation_func(z)\n",
    "\n",
    "        zs.append(z)\n",
    "    return layer_inputs, zs, a\n",
    "\n",
    "def backpropagation_batch(\n",
    "    input, layers, activation_funcs, target, activation_ders, cost_der=mse_der\n",
    "):\n",
    "    layer_inputs, zs, predict = feed_forward_saver_batch(input, layers, activation_funcs)\n",
    "\n",
    "    layer_grads = [() for layer in layers]\n",
    "\n",
    "    # We loop over the layers, from the last to the first\n",
    "    for i in reversed(range(len(layers))):\n",
    "        layer_input, z, activation_der = layer_inputs[i], zs[i], activation_ders[i]\n",
    "\n",
    "        if i == len(layers) - 1:\n",
    "            # For last layer we use cost derivative as dC_da(L) can be computed directly\n",
    "            dC_da = cost_der(predict, target)\n",
    "        else:\n",
    "            # For other layers we build on previous z derivative, as dC_da(i) = dC_dz(i+1) * dz(i+1)_da(i)\n",
    "            (W, b) = layers[i + 1]\n",
    "            dC_da = dC_dz @ W\n",
    "\n",
    "        dC_dz = dC_da * activation_der(z)\n",
    "        dC_dW = np.outer(dC_dz, layer_input)\n",
    "        dC_db = dC_dz\n",
    "\n",
    "        layer_grads[i] = (dC_dW, dC_db)\n",
    "\n",
    "    return layer_grads"
   ]
  },
  {
   "cell_type": "code",
   "execution_count": 23,
   "metadata": {},
   "outputs": [
    {
     "name": "stdout",
     "output_type": "stream",
     "text": [
      "[[0.76834017 0.73116322]\n",
      " [0.15785983 0.38154209]\n",
      " [0.83897134 0.90488018]\n",
      " [0.57065433 0.91615312]\n",
      " [0.79859466 0.7676037 ]]\n",
      "[[0.944537   0.05152937 0.08452191 0.77653144]\n",
      " [0.84701322 0.21009951 0.19450933 0.74888316]\n",
      " [0.15170188 0.81722607 0.92584086 0.62123417]\n",
      " [0.06051295 0.99294866 0.81756599 0.44784539]\n",
      " [0.35933874 0.05639776 0.82661178 0.05176343]]\n"
     ]
    }
   ],
   "source": [
    "input_features = 2\n",
    "input_rows = 5\n",
    "layer_output_sizes = [3, 4]\n",
    "activation_funcs = [sigmoid, ReLU]\n",
    "activation_ders = [sigmoid_der, ReLU_der]\n",
    "\n",
    "layers = create_layers(input_features, layer_output_sizes) #Batched inputs doesnt change the architecture of the model\n",
    "\n",
    "x = np.random.rand(input_rows,input_features)\n",
    "print(x)\n",
    "target = np.random.rand(input_rows,4)\n",
    "print(target)"
   ]
  },
  {
   "cell_type": "code",
   "execution_count": 24,
   "metadata": {},
   "outputs": [],
   "source": [
    "layer_grads = backpropagation_batch(x, layers, activation_funcs, target, activation_ders)"
   ]
  },
  {
   "cell_type": "code",
   "execution_count": 25,
   "metadata": {},
   "outputs": [
    {
     "data": {
      "text/plain": [
       "[(array([[-0.00225973, -0.00471675],\n",
       "         [ 0.01028849,  0.01109508],\n",
       "         [-0.05943463, -0.07055526]]),\n",
       "  array([-0.00506251,  0.01195453, -0.08023343])),\n",
       " (array([[ 0.03835485,  0.09198361,  0.01710988],\n",
       "         [-0.04302817, -0.09404647, -0.02024412],\n",
       "         [ 0.00852488,  0.00877801,  0.00518695],\n",
       "         [-0.07369943, -0.13467089, -0.03787447]]),\n",
       "  array([ 0.11029275, -0.11648429,  0.01467895, -0.17553811]))]"
      ]
     },
     "execution_count": 25,
     "metadata": {},
     "output_type": "execute_result"
    }
   ],
   "source": [
    "cost_grad = grad(cost_batch, 0)\n",
    "cost_grad(layers, x, [sigmoid, ReLU], target)"
   ]
  },
  {
   "cell_type": "markdown",
   "metadata": {},
   "source": [
    "<h1>Exercise 7 - Training</h1>\n",
    "\n",
    "**a)** Complete exercise 6 and 7 from last week, but use your own backpropogation implementation to compute the gradient.\n",
    "\n",
    "**b)** Use stochastic gradient descent with momentum when you train your network."
   ]
  },
  {
   "cell_type": "markdown",
   "metadata": {},
   "source": [
    "Exercise 6 from week 42 (Prediction on real data, untrained!)"
   ]
  },
  {
   "cell_type": "code",
   "execution_count": 26,
   "metadata": {},
   "outputs": [],
   "source": [
    "def softmax(z):\n",
    "    \"\"\"Compute softmax values for each set of scores in the rows of the matrix z.\n",
    "    Used with batched input data.\"\"\"\n",
    "    e_z = np.exp(z - np.max(z, axis=0))\n",
    "    return e_z / np.sum(e_z, axis=1)[:, np.newaxis]\n",
    "\n",
    "def softmax_der(z):\n",
    "    s = softmax(z).reshape(-1, 1)  # Reshape to make it a column vector\n",
    "    return np.diagflat(s) - np.dot(s, s.T)\n"
   ]
  },
  {
   "cell_type": "code",
   "execution_count": 27,
   "metadata": {},
   "outputs": [
    {
     "data": {
      "image/png": "[encoded data removed]",
      "text/plain": [
       "<Figure size 640x480 with 1 Axes>"
      ]
     },
     "metadata": {},
     "output_type": "display_data"
    }
   ],
   "source": [
    "iris = datasets.load_iris()\n",
    "_, ax = plt.subplots()\n",
    "scatter = ax.scatter(iris.data[:, 0], iris.data[:, 1], c=iris.target)\n",
    "ax.set(xlabel=iris.feature_names[0], ylabel=iris.feature_names[1])\n",
    "_ = ax.legend(\n",
    "    scatter.legend_elements()[0], iris.target_names, loc=\"lower right\", title=\"Classes\"\n",
    "    )"
   ]
  },
  {
   "cell_type": "code",
   "execution_count": 28,
   "metadata": {},
   "outputs": [],
   "source": [
    "inputs = iris.data\n",
    "\n",
    "# Since each prediction is a vector with a score for each of the three types of flowers,\n",
    "# we need to make each target a vector with a 1 for the correct flower and a 0 for the others.\n",
    "targets = np.zeros((len(iris.data), 3))\n",
    "for i, t in enumerate(iris.target):\n",
    "    targets[i, t] = 1\n",
    "\n",
    "\n",
    "def accuracy(predictions, targets):\n",
    "    one_hot_predictions = np.zeros(predictions.shape)\n",
    "\n",
    "    for i, prediction in enumerate(predictions):\n",
    "        one_hot_predictions[i, np.argmax(prediction)] = 1\n",
    "    return accuracy_score(one_hot_predictions, targets)"
   ]
  },
  {
   "cell_type": "code",
   "execution_count": 29,
   "metadata": {},
   "outputs": [
    {
     "name": "stdout",
     "output_type": "stream",
     "text": [
      "[(array([[ 0.66365406, -0.41908403, -1.61729283,  0.05834875],\n",
      "       [ 0.29015357, -0.52654543,  0.02629061,  1.00256745],\n",
      "       [-0.83889261, -1.50002552, -0.31563957,  1.89844432],\n",
      "       [-1.16596207, -0.50935779, -0.936486  ,  0.51326901],\n",
      "       [-0.41587127, -0.39105913,  1.3355858 ,  1.47749935],\n",
      "       [-0.14956499, -1.84801298, -0.5459246 ,  0.41484969],\n",
      "       [-0.45657806,  0.28671518, -0.46401312, -0.67968461],\n",
      "       [-0.56049471,  0.20262744, -0.56923493,  1.62941396]]), array([ 0.02890211,  1.98833078, -0.96854121,  0.25784516, -0.81976628,\n",
      "        0.32786546, -0.00926143, -0.06652192])), (array([[-0.34503612, -1.55470677,  0.77621408,  1.21188615, -0.50627119,\n",
      "         0.09852133, -1.76172458, -0.14203295],\n",
      "       [ 0.09603313, -1.79000492,  0.65043773,  1.90243824,  1.29943216,\n",
      "         0.66441785,  1.60363845,  1.02300345],\n",
      "       [ 0.18112742,  1.36481293,  0.12893995, -0.07762077,  0.87944335,\n",
      "         1.86060914, -1.83220387,  0.11214372]]), array([-0.1062213 , -1.59946654,  0.95774956]))]\n"
     ]
    }
   ],
   "source": [
    "rows, features = iris.data.shape\n",
    "rows_2, classes = targets.shape\n",
    "layers = create_layers(features,[8,classes])\n",
    "activations = [sigmoid, softmax]\n",
    "activation_ders = [sigmoid_der, softmax_der]\n",
    "\n",
    "print(layers)"
   ]
  },
  {
   "cell_type": "code",
   "execution_count": 30,
   "metadata": {},
   "outputs": [
    {
     "name": "stdout",
     "output_type": "stream",
     "text": [
      "0.68\n"
     ]
    }
   ],
   "source": [
    "_,_,predictions = feed_forward_saver_batch(iris.data, layers, activations)\n",
    "score = accuracy(predictions, targets)\n",
    "print(score)"
   ]
  },
  {
   "cell_type": "markdown",
   "metadata": {},
   "source": [
    "Exercise 7 from week 42 (Training on real data)"
   ]
  },
  {
   "cell_type": "code",
   "execution_count": 31,
   "metadata": {},
   "outputs": [],
   "source": [
    "def cross_entropy(predict, target):\n",
    "    return np.sum(-target * np.log(predict))\n",
    "\n",
    "def cross_entropy_der(predict, target):\n",
    "    return predict - target\n",
    "\n",
    "def cost_batch(input, layers, activation_funcs, target):\n",
    "    _,_,predict = feed_forward_saver_batch(input, layers, activation_funcs)\n",
    "    return cross_entropy(predict, target)"
   ]
  },
  {
   "cell_type": "code",
   "execution_count": 32,
   "metadata": {},
   "outputs": [],
   "source": [
    "def sgd_momentum(X, y, layers, activation_funcs, activation_ders, cost_der, learning_rate=0.1, epochs=50, mb_size=5, momentum=0.3, tolerance=1e-6):\n",
    "    m, n = X.shape\n",
    "    iterations = int(m / mb_size)\n",
    "    beta = np.zeros((n, 1))\n",
    "    prev_loss = float(\"inf\")\n",
    "    velocity = 0\n",
    "\n",
    "\n",
    "    for epoch in range(epochs):\n",
    "        for i in range(iterations):\n",
    "            index = mb_size * np.random.randint(iterations)\n",
    "            Xi = X[index : index + mb_size] if index + mb_size <= m else X[index:m]\n",
    "            yi = y[index : index + mb_size] if index + mb_size <= m else y[index:m]\n",
    "            layersi = layers[index : index + mb_size] if index + mb_size <= m else layers[index:m]\n",
    "            \n",
    "            gradient = backpropagation_batch(X, layersi, activation_funcs, y, activation_ders, cost_der)\n",
    "            velocity = momentum * velocity - learning_rate * gradient\n",
    "            layers += velocity\n",
    "\n",
    "            _,_,a = feed_forward_saver_batch(Xi, layers, activation_funcs)\n",
    "            print(a)\n",
    "            score = cross_entropy(a, yi)\n",
    "\n",
    "            if abs(prev_loss - score) < tolerance:\n",
    "                return beta, i, epoch\n",
    "            prev_score = score\n",
    "\n",
    "    return beta, iterations, epochs"
   ]
  },
  {
   "cell_type": "code",
   "execution_count": 33,
   "metadata": {},
   "outputs": [
    {
     "ename": "ValueError",
     "evalue": "matmul: Input operand 1 has a mismatch in its core dimension 0, with gufunc signature (n?,k),(k,m?)->(n?,m?) (size 4 is different from 2)",
     "output_type": "error",
     "traceback": [
      "\u001b[0;31m---------------------------------------------------------------------------\u001b[0m",
      "\u001b[0;31mValueError\u001b[0m                                Traceback (most recent call last)",
      "Cell \u001b[0;32mIn[33], line 1\u001b[0m\n\u001b[0;32m----> 1\u001b[0m \u001b[43msgd_momentum\u001b[49m\u001b[43m(\u001b[49m\u001b[43mx\u001b[49m\u001b[43m,\u001b[49m\u001b[43m \u001b[49m\u001b[43mtarget\u001b[49m\u001b[43m,\u001b[49m\u001b[43m \u001b[49m\u001b[43mlayers\u001b[49m\u001b[43m,\u001b[49m\u001b[43m \u001b[49m\u001b[43mlayer_grads\u001b[49m\u001b[43m,\u001b[49m\u001b[43m \u001b[49m\u001b[43mactivations\u001b[49m\u001b[43m,\u001b[49m\u001b[43m \u001b[49m\u001b[43mactivation_ders\u001b[49m\u001b[43m,\u001b[49m\u001b[43m \u001b[49m\u001b[43mcross_entropy_der\u001b[49m\u001b[43m)\u001b[49m\n",
      "Cell \u001b[0;32mIn[32], line 16\u001b[0m, in \u001b[0;36msgd_momentum\u001b[0;34m(X, y, layers, activation_funcs, activation_ders, cost_der, learning_rate, epochs, mb_size, momentum, tolerance)\u001b[0m\n\u001b[1;32m     13\u001b[0m yi \u001b[38;5;241m=\u001b[39m y[index : index \u001b[38;5;241m+\u001b[39m mb_size] \u001b[38;5;28;01mif\u001b[39;00m index \u001b[38;5;241m+\u001b[39m mb_size \u001b[38;5;241m<\u001b[39m\u001b[38;5;241m=\u001b[39m m \u001b[38;5;28;01melse\u001b[39;00m y[index:m]\n\u001b[1;32m     14\u001b[0m layersi \u001b[38;5;241m=\u001b[39m layers[index : index \u001b[38;5;241m+\u001b[39m mb_size] \u001b[38;5;28;01mif\u001b[39;00m index \u001b[38;5;241m+\u001b[39m mb_size \u001b[38;5;241m<\u001b[39m\u001b[38;5;241m=\u001b[39m m \u001b[38;5;28;01melse\u001b[39;00m layers[index:m]\n\u001b[0;32m---> 16\u001b[0m gradient \u001b[38;5;241m=\u001b[39m \u001b[43mbackpropagation_batch\u001b[49m\u001b[43m(\u001b[49m\u001b[43mX\u001b[49m\u001b[43m,\u001b[49m\u001b[43m \u001b[49m\u001b[43mlayersi\u001b[49m\u001b[43m,\u001b[49m\u001b[43m \u001b[49m\u001b[43mactivation_funcs\u001b[49m\u001b[43m,\u001b[49m\u001b[43m \u001b[49m\u001b[43my\u001b[49m\u001b[43m,\u001b[49m\u001b[43m \u001b[49m\u001b[43mactivation_ders\u001b[49m\u001b[43m,\u001b[49m\u001b[43m \u001b[49m\u001b[43mcost_der\u001b[49m\u001b[43m)\u001b[49m\n\u001b[1;32m     17\u001b[0m velocity \u001b[38;5;241m=\u001b[39m momentum \u001b[38;5;241m*\u001b[39m velocity \u001b[38;5;241m-\u001b[39m learning_rate \u001b[38;5;241m*\u001b[39m gradient\n\u001b[1;32m     18\u001b[0m layers \u001b[38;5;241m+\u001b[39m\u001b[38;5;241m=\u001b[39m velocity\n",
      "Cell \u001b[0;32mIn[22], line 20\u001b[0m, in \u001b[0;36mbackpropagation_batch\u001b[0;34m(input, layers, activation_funcs, target, activation_ders, cost_der)\u001b[0m\n\u001b[1;32m     17\u001b[0m \u001b[38;5;28;01mdef\u001b[39;00m \u001b[38;5;21mbackpropagation_batch\u001b[39m(\n\u001b[1;32m     18\u001b[0m     \u001b[38;5;28minput\u001b[39m, layers, activation_funcs, target, activation_ders, cost_der\u001b[38;5;241m=\u001b[39mmse_der\n\u001b[1;32m     19\u001b[0m ):\n\u001b[0;32m---> 20\u001b[0m     layer_inputs, zs, predict \u001b[38;5;241m=\u001b[39m \u001b[43mfeed_forward_saver_batch\u001b[49m\u001b[43m(\u001b[49m\u001b[38;5;28;43minput\u001b[39;49m\u001b[43m,\u001b[49m\u001b[43m \u001b[49m\u001b[43mlayers\u001b[49m\u001b[43m,\u001b[49m\u001b[43m \u001b[49m\u001b[43mactivation_funcs\u001b[49m\u001b[43m)\u001b[49m\n\u001b[1;32m     22\u001b[0m     layer_grads \u001b[38;5;241m=\u001b[39m [() \u001b[38;5;28;01mfor\u001b[39;00m layer \u001b[38;5;129;01min\u001b[39;00m layers]\n\u001b[1;32m     24\u001b[0m     \u001b[38;5;66;03m# We loop over the layers, from the last to the first\u001b[39;00m\n",
      "Cell \u001b[0;32mIn[22], line 11\u001b[0m, in \u001b[0;36mfeed_forward_saver_batch\u001b[0;34m(input, layers, activation_funcs)\u001b[0m\n\u001b[1;32m      9\u001b[0m \u001b[38;5;28;01mfor\u001b[39;00m (W, b), activation_func \u001b[38;5;129;01min\u001b[39;00m \u001b[38;5;28mzip\u001b[39m(layers, activation_funcs):\n\u001b[1;32m     10\u001b[0m     layer_inputs\u001b[38;5;241m.\u001b[39mappend(a)\n\u001b[0;32m---> 11\u001b[0m     z \u001b[38;5;241m=\u001b[39m \u001b[43ma\u001b[49m\u001b[43m \u001b[49m\u001b[38;5;241;43m@\u001b[39;49m\u001b[43m \u001b[49m\u001b[43mW\u001b[49m\u001b[38;5;241;43m.\u001b[39;49m\u001b[43mT\u001b[49m \u001b[38;5;241m+\u001b[39m b\n\u001b[1;32m     12\u001b[0m     a \u001b[38;5;241m=\u001b[39m activation_func(z)\n\u001b[1;32m     14\u001b[0m     zs\u001b[38;5;241m.\u001b[39mappend(z)\n",
      "\u001b[0;31mValueError\u001b[0m: matmul: Input operand 1 has a mismatch in its core dimension 0, with gufunc signature (n?,k),(k,m?)->(n?,m?) (size 4 is different from 2)"
     ]
    }
   ],
   "source": [
    "sgd_momentum(x, target, layers, layer_grads, activations, activation_ders, cross_entropy_der)"
   ]
  }
 ],
 "metadata": {
  "kernelspec": {
   "display_name": ".venv",
   "language": "python",
   "name": "python3"
  },
  "language_info": {
   "codemirror_mode": {
    "name": "ipython",
    "version": 3
   },
   "file_extension": ".py",
   "mimetype": "text/x-python",
   "name": "python",
   "nbconvert_exporter": "python",
   "pygments_lexer": "ipython3",
   "version": "3.11.6"
  }
 },
 "nbformat": 4,
 "nbformat_minor": 2
}
